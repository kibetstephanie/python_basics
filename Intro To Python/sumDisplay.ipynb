{
 "cells": [
  {
   "cell_type": "code",
   "execution_count": 1,
   "id": "807cbe96",
   "metadata": {},
   "outputs": [
    {
     "name": "stdout",
     "output_type": "stream",
     "text": [
      "Enter first number : 64\n",
      "Enter second number : 32\n",
      "Sum = 96\n"
     ]
    }
   ],
   "source": [
    "n1 = int(input('Enter first number : '))\n",
    "n2 = int(input('Enter second number : '))\n",
    "\n",
    "sum = n1 + n2\n",
    "print('Sum =', sum)"
   ]
  },
  {
   "cell_type": "code",
   "execution_count": null,
   "id": "d269e5a5",
   "metadata": {},
   "outputs": [],
   "source": []
  }
 ],
 "metadata": {
  "kernelspec": {
   "display_name": "Python 3 (ipykernel)",
   "language": "python",
   "name": "python3"
  },
  "language_info": {
   "codemirror_mode": {
    "name": "ipython",
    "version": 3
   },
   "file_extension": ".py",
   "mimetype": "text/x-python",
   "name": "python",
   "nbconvert_exporter": "python",
   "pygments_lexer": "ipython3",
   "version": "3.9.7"
  }
 },
 "nbformat": 4,
 "nbformat_minor": 5
}
