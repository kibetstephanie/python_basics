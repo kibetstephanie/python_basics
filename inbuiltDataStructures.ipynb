{
 "cells": [
  {
   "cell_type": "code",
   "execution_count": 23,
   "id": "cedf9db9",
   "metadata": {
    "scrolled": true
   },
   "outputs": [
    {
     "name": "stdout",
     "output_type": "stream",
     "text": [
      "\n",
      "List after Removal of two buildings using remove operation: \n",
      "['STMB', 'STC', 'MSB', 'SBS', 'Library', 'Auditorium']\n",
      "\n",
      "List after addition of two places using Insert Operation: \n",
      "['Sports Complex', 'STMB', 'STC', 'MSB', 'SBS', 'Library', 'Hair Salon', 'Auditorium']\n",
      "\n",
      "The list after addition of two buildings using Append Operation: \n",
      "['Sports Complex', 'STMB', 'STC', 'MSB', 'SBS', 'Library', 'Hair Salon', 'Auditorium', 'Chapel', 'Siwaka']\n",
      "\n",
      "The size of the list is: \n",
      "10\n",
      "\n",
      "List after popping an element: \n",
      "['Sports Complex', 'STMB', 'STC', 'MSB', 'SBS', 'Library', 'Hair Salon', 'Auditorium', 'Chapel']\n",
      "\n",
      "List after popping a specific element: \n",
      "['Sports Complex', 'STMB', 'STC', 'MSB', 'SBS', 'Library', 'Auditorium', 'Chapel']\n",
      "\n",
      "List after clear operation:  []\n"
     ]
    }
   ],
   "source": [
    "#Create a list containing the names of 8 buildings in Strathmore university and perform the following methods:\n",
    "Strathmore = [\"STMB\", \"STC\", \"MSB\", \"Central Building\", \"SBS\", \"Library\", \"Auditorium\", \"Medical Center\"]\n",
    "\n",
    "#Remove () - Removes an item from the list\n",
    "Strathmore.remove('Medical Center')\n",
    "Strathmore.remove('Central Building')\n",
    "print(\"\\nList after Removal of two buildings using remove operation: \")\n",
    "print(Strathmore)\n",
    "\n",
    "#Insert() - Adding elements at a desired position\n",
    "Strathmore.insert(5, 'Hair Salon')\n",
    "Strathmore.insert(0, 'Sports Complex')\n",
    "print(\"\\nList after addition of two places using Insert Operation: \")\n",
    "print(Strathmore)\n",
    "\n",
    "#append() - Adding elements at the end of the list\n",
    "Strathmore.append('Chapel')\n",
    "Strathmore.append('Siwaka')\n",
    "print(\"\\nThe list after addition of two buildings using Append Operation: \")\n",
    "print(Strathmore)\n",
    "\n",
    "#len() - Size of list\n",
    "print(\"\\nThe size of the list is: \")\n",
    "print(len(Strathmore))\n",
    "\n",
    "#pop() - Removes and returns an element at the given index\n",
    "#By default it removes the last element (Siwaka)\n",
    "Strathmore.pop()\n",
    "print(\"\\nList after popping an element: \")\n",
    "print(Strathmore)\n",
    "\n",
    "# Removing element at a specific location from the set using the pop() method\n",
    "Strathmore.pop(6)\n",
    "print(\"\\nList after popping a specific element: \")\n",
    "print(Strathmore)\n",
    "\n",
    "#clear() - Removes all items from the list\n",
    "Strathmore.clear()\n",
    "print('\\nList after clear operation: ', Strathmore)\n",
    "\n"
   ]
  },
  {
   "cell_type": "code",
   "execution_count": 37,
   "id": "f5063798",
   "metadata": {},
   "outputs": [
    {
     "name": "stdout",
     "output_type": "stream",
     "text": [
      "The python dictionary is: {'Name': 'Strathmore', 'Phone': '0703 034000'}\n"
     ]
    }
   ],
   "source": [
    "#Write code to create a Python dictionary (the dict type). Add two entries to the dictionary: Associate the key ‘name’ with the value ‘Strathmore’, and associate the key ‘phone’ with ‘0703 034000’\n",
    "strath ={\"Name\":\"Strathmore\", \"Phone\":\"0703 034000\"}\n",
    "print(\"The python dictionary is:\",strath)"
   ]
  },
  {
   "cell_type": "code",
   "execution_count": 36,
   "id": "e98d1c4e",
   "metadata": {},
   "outputs": [
    {
     "name": "stdout",
     "output_type": "stream",
     "text": [
      "\n",
      "The tuple of prime numbers is:\n",
      "(2, 3, 5, 7, 11, 13)\n",
      "\n",
      "The size of the tuple is:\n",
      "6\n",
      "\n",
      "Yes, 3 is present\n",
      "\n",
      "The fourth element in the tuple is:\n",
      "7\n"
     ]
    },
    {
     "ename": "NameError",
     "evalue": "name 'evenprime' is not defined",
     "output_type": "error",
     "traceback": [
      "\u001b[1;31m---------------------------------------------------------------------------\u001b[0m",
      "\u001b[1;31mNameError\u001b[0m                                 Traceback (most recent call last)",
      "\u001b[1;32m~\\AppData\\Local\\Temp/ipykernel_2576/2625553619.py\u001b[0m in \u001b[0;36m<module>\u001b[1;34m\u001b[0m\n\u001b[0;32m     19\u001b[0m \u001b[1;31m#Items cannot be added once a tuple has been created.\u001b[0m\u001b[1;33m\u001b[0m\u001b[1;33m\u001b[0m\u001b[0m\n\u001b[0;32m     20\u001b[0m \u001b[0mprime\u001b[0m \u001b[1;33m=\u001b[0m \u001b[1;33m(\u001b[0m\u001b[1;36m2\u001b[0m\u001b[1;33m,\u001b[0m \u001b[1;36m3\u001b[0m\u001b[1;33m,\u001b[0m \u001b[1;36m5\u001b[0m\u001b[1;33m,\u001b[0m \u001b[1;36m7\u001b[0m\u001b[1;33m,\u001b[0m \u001b[1;36m11\u001b[0m\u001b[1;33m,\u001b[0m \u001b[1;36m13\u001b[0m\u001b[1;33m)\u001b[0m\u001b[1;33m\u001b[0m\u001b[1;33m\u001b[0m\u001b[0m\n\u001b[1;32m---> 21\u001b[1;33m \u001b[0mevenprime\u001b[0m\u001b[1;33m[\u001b[0m\u001b[1;36m4\u001b[0m\u001b[1;33m]\u001b[0m\u001b[1;33m=\u001b[0m \u001b[1;36m17\u001b[0m\u001b[1;33m\u001b[0m\u001b[1;33m\u001b[0m\u001b[0m\n\u001b[0m\u001b[0;32m     22\u001b[0m \u001b[0mprint\u001b[0m\u001b[1;33m(\u001b[0m\u001b[1;34m\"\\nThe new tuple of prime numbers is:\"\u001b[0m\u001b[1;33m)\u001b[0m\u001b[1;33m\u001b[0m\u001b[1;33m\u001b[0m\u001b[0m\n\u001b[0;32m     23\u001b[0m \u001b[0mprint\u001b[0m\u001b[1;33m(\u001b[0m\u001b[0mprime\u001b[0m\u001b[1;33m)\u001b[0m\u001b[1;33m\u001b[0m\u001b[1;33m\u001b[0m\u001b[0m\n",
      "\u001b[1;31mNameError\u001b[0m: name 'evenprime' is not defined"
     ]
    }
   ],
   "source": [
    "#Create a tuple containing the 6 integers and perform the following methods:\n",
    "prime = (2, 3, 5, 7, 11, 13)\n",
    "print(\"\\nThe tuple of prime numbers is:\")\n",
    "print(prime)\n",
    "\n",
    "#len() \n",
    "print(\"\\nThe size of the tuple is:\")\n",
    "print(len(prime))\n",
    "\n",
    "#Check for item in tuple (if it exists)\n",
    "if 3 in prime:\n",
    "    print(\"\\nYes, 3 is present\")\n",
    "\n",
    "#Access items \n",
    "print(\"\\nThe fourth element in the tuple is:\")\n",
    "print(prime[3])\n",
    "\n",
    "#Add items \n",
    "#Items cannot be added once a tuple has been created.\n",
    "prime = (2, 3, 5, 7, 11, 13)\n",
    "evenprime[4]= 17\n",
    "print(\"\\nThe new tuple of prime numbers is:\")\n",
    "print(prime)"
   ]
  }
 ],
 "metadata": {
  "kernelspec": {
   "display_name": "Python 3 (ipykernel)",
   "language": "python",
   "name": "python3"
  },
  "language_info": {
   "codemirror_mode": {
    "name": "ipython",
    "version": 3
   },
   "file_extension": ".py",
   "mimetype": "text/x-python",
   "name": "python",
   "nbconvert_exporter": "python",
   "pygments_lexer": "ipython3",
   "version": "3.9.7"
  }
 },
 "nbformat": 4,
 "nbformat_minor": 5
}
