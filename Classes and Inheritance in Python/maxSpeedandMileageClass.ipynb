{
 "cells": [
  {
   "cell_type": "code",
   "execution_count": 1,
   "id": "2f3db313",
   "metadata": {},
   "outputs": [
    {
     "name": "stdout",
     "output_type": "stream",
     "text": [
      "Honda FIT speed is: 180 while the mileage is: 18\n"
     ]
    }
   ],
   "source": [
    "#Create a class Vehicle and output the instance variables Max speed and Mileage\n",
    "class Vehicle:\n",
    "    def __init__(self, max_speed, mileage):\n",
    "        self.max_speed = max_speed\n",
    "        self.mileage = mileage\n",
    "\n",
    "hondaFit = Vehicle(180, 18)\n",
    "print(f\"Honda FIT speed is: {hondaFit.max_speed} while the mileage is: {hondaFit.mileage}\")"
   ]
  },
  {
   "cell_type": "code",
   "execution_count": null,
   "id": "832540af",
   "metadata": {},
   "outputs": [],
   "source": []
  }
 ],
 "metadata": {
  "kernelspec": {
   "display_name": "Python 3 (ipykernel)",
   "language": "python",
   "name": "python3"
  },
  "language_info": {
   "codemirror_mode": {
    "name": "ipython",
    "version": 3
   },
   "file_extension": ".py",
   "mimetype": "text/x-python",
   "name": "python",
   "nbconvert_exporter": "python",
   "pygments_lexer": "ipython3",
   "version": "3.9.7"
  }
 },
 "nbformat": 4,
 "nbformat_minor": 5
}
