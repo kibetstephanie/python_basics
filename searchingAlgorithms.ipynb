{
 "cells": [
  {
   "cell_type": "code",
   "execution_count": 14,
   "id": "8c7ea99b",
   "metadata": {},
   "outputs": [
    {
     "name": "stdout",
     "output_type": "stream",
     "text": [
      "['A', 'B', 'C', 'D', 'E', 'F']\n"
     ]
    }
   ],
   "source": [
    "#Consider the below search graph whose start state is A and goal state is F\n",
    "#Question 1\n",
    "#Implement the breath first search (BFS) algorithm in python for the given graph and print \n",
    "#the order in which the nodes will be visited. \n",
    "\n",
    "import collections\n",
    "graph = {\n",
    "    'A':['B','C','D'],\n",
    "    'B':['A','E'],\n",
    "    'C':['A','D','E','F'],\n",
    "    'D':['A','C','F'],\n",
    "    'E':['B','C'],\n",
    "    'F':['C', 'D']\n",
    "}\n",
    "\n",
    "def bfs(g, root):\n",
    "    queue = collections.deque([root]) # Creation of the queue where elements will initally be placed. They will also be removed starting with the root\n",
    "    visited = [] # Creation of the list where elements will be placed after they are removed from the queue\n",
    "    while queue:\n",
    "        node = queue.popleft() # Remove the left most node from the queue\n",
    "        if node not in visited:\n",
    "            visited.append(node) # Add the node in the list if it's not in the queue\n",
    "        #Now let's code for the child nodes\n",
    "        for item in g[node]:\n",
    "            if item not in visited:\n",
    "                queue.append(item) # Adding the child node in the queue\n",
    "    print(visited) # Print the list\n",
    "\n",
    "bfs(graph, 'A') #'A' is the start node\n",
    "            \n",
    "                "
   ]
  },
  {
   "cell_type": "code",
   "execution_count": 11,
   "id": "93aafb81",
   "metadata": {
    "scrolled": false
   },
   "outputs": [
    {
     "name": "stdout",
     "output_type": "stream",
     "text": [
      "Path found: ['A', 'D', 'F']\n"
     ]
    },
    {
     "data": {
      "text/plain": [
       "['A', 'D', 'F']"
      ]
     },
     "execution_count": 11,
     "metadata": {},
     "output_type": "execute_result"
    }
   ],
   "source": [
    "#Question 2\n",
    "#Implement the A* search algorithm in python for the given graph and print the order in \n",
    "#which the nodes will be visited.\n",
    "\n",
    "def aStarAlgorithm(start_node, stop_node):\n",
    "    open_set = set(start_node)\n",
    "    closed_set = set()\n",
    "    g = {}\n",
    "    parents = {}\n",
    "    \n",
    "    g[start_node] = 0\n",
    "    parents[start_node] = start_node\n",
    "    \n",
    "    while len(open_set) > 0:\n",
    "        n = None\n",
    "        \n",
    "        for v in open_set:\n",
    "            if n == None or g[v] + heuristic(v) < g[n] +heuristic(n):\n",
    "                n = v\n",
    "        if n == stop_node or Graph_nodes[n] == None:\n",
    "            pass\n",
    "        else:\n",
    "            for (m, weight) in get_neighbours(n):\n",
    "                if m not in open_set and m not in closed_set:\n",
    "                    open_set.add(m)\n",
    "                    parents[m] = n\n",
    "                    g[m] = g[n] + weight\n",
    "                else:\n",
    "                    if g[m] > g[n] + weight:\n",
    "                        g[m] = g[n] + weight\n",
    "                        parents[m] = n\n",
    "                        \n",
    "                        if m in closed_set:\n",
    "                            closed_set.remove(m)\n",
    "                            open_set.add(m)\n",
    "        if n == None:\n",
    "            print('Path does not exist')\n",
    "            return None\n",
    "        \n",
    "        if n == stop_node:\n",
    "            path = []\n",
    "            \n",
    "            while parents[n] != n:\n",
    "                path.append(n)\n",
    "                n = parents[n]\n",
    "                \n",
    "            path.append(start_node)\n",
    "            path.reverse()\n",
    "            \n",
    "            print('Path found: {}'.format(path))\n",
    "            return path\n",
    "        \n",
    "        open_set.remove(n)\n",
    "        closed_set.add(n)\n",
    "        \n",
    "    print('Path does not exist')\n",
    "    return None\n",
    "\n",
    "def get_neighbours(v):\n",
    "    if v in Graph_nodes:\n",
    "        return Graph_nodes[v]\n",
    "    else:\n",
    "        return None\n",
    "    \n",
    "def heuristic(n):\n",
    "    H_dist = {\n",
    "        'A':17,\n",
    "        'B':25,\n",
    "        'C':6,\n",
    "        'D':5,\n",
    "        'E':18,\n",
    "        'F':0,\n",
    "    }\n",
    "    \n",
    "    return H_dist[n]\n",
    "    \n",
    "Graph_nodes = {\n",
    "    'A':[('B', 10),('C',12),('D',5)],\n",
    "    'B':[('E',11)],\n",
    "    'C':[('E',11),('F',8),('D',6)],\n",
    "    'D':[('C',6),('F',14)],\n",
    "    'E':None,\n",
    "}\n",
    "\n",
    "aStarAlgorithm('A','F')"
   ]
  }
 ],
 "metadata": {
  "kernelspec": {
   "display_name": "Python 3 (ipykernel)",
   "language": "python",
   "name": "python3"
  },
  "language_info": {
   "codemirror_mode": {
    "name": "ipython",
    "version": 3
   },
   "file_extension": ".py",
   "mimetype": "text/x-python",
   "name": "python",
   "nbconvert_exporter": "python",
   "pygments_lexer": "ipython3",
   "version": "3.9.7"
  }
 },
 "nbformat": 4,
 "nbformat_minor": 5
}
