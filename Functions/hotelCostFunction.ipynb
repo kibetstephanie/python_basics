{
 "cells": [
  {
   "cell_type": "code",
   "execution_count": 1,
   "id": "a2ab2abf",
   "metadata": {},
   "outputs": [
    {
     "name": "stdout",
     "output_type": "stream",
     "text": [
      "Enter the number of nights: 2\n",
      "Total hotel cost is: 280\n"
     ]
    }
   ],
   "source": [
    "#Function to return the hotel cost\n",
    "def hotelCost(nights):\n",
    "    hc= 140*nights\n",
    "    print(f\"Total hotel cost is: {hc}\")\n",
    "    \n",
    "#enter the no. of nights    \n",
    "nights = int(input(\"Enter the number of nights: \"))\n",
    "hotelCost(nights)"
   ]
  },
  {
   "cell_type": "code",
   "execution_count": null,
   "id": "843a9040",
   "metadata": {},
   "outputs": [],
   "source": []
  }
 ],
 "metadata": {
  "kernelspec": {
   "display_name": "Python 3 (ipykernel)",
   "language": "python",
   "name": "python3"
  },
  "language_info": {
   "codemirror_mode": {
    "name": "ipython",
    "version": 3
   },
   "file_extension": ".py",
   "mimetype": "text/x-python",
   "name": "python",
   "nbconvert_exporter": "python",
   "pygments_lexer": "ipython3",
   "version": "3.9.7"
  }
 },
 "nbformat": 4,
 "nbformat_minor": 5
}
