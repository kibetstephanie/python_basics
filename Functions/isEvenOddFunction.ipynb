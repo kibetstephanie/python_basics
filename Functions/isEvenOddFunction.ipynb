{
 "cells": [
  {
   "cell_type": "code",
   "execution_count": 2,
   "id": "3190b922",
   "metadata": {},
   "outputs": [
    {
     "name": "stdout",
     "output_type": "stream",
     "text": [
      "11  is Odd\n",
      "22  is Even\n",
      "33  is Odd\n",
      "44  is Even\n"
     ]
    }
   ],
   "source": [
    "#Function to check if a number is Even or Odd\n",
    "def CheckEvenOdd(num): \n",
    "  if (num % 2 == 0): \n",
    "    print(num,\" is Even\")\n",
    "  else: \n",
    "    print(num,\" is Odd\")\n",
    "    \n",
    "#Calling the function   \n",
    "CheckEvenOdd(11) \n",
    "CheckEvenOdd(22) \n",
    "CheckEvenOdd(33)\n",
    "CheckEvenOdd(44)"
   ]
  },
  {
   "cell_type": "code",
   "execution_count": null,
   "id": "48f2d4dd",
   "metadata": {},
   "outputs": [],
   "source": []
  }
 ],
 "metadata": {
  "kernelspec": {
   "display_name": "Python 3 (ipykernel)",
   "language": "python",
   "name": "python3"
  },
  "language_info": {
   "codemirror_mode": {
    "name": "ipython",
    "version": 3
   },
   "file_extension": ".py",
   "mimetype": "text/x-python",
   "name": "python",
   "nbconvert_exporter": "python",
   "pygments_lexer": "ipython3",
   "version": "3.9.7"
  }
 },
 "nbformat": 4,
 "nbformat_minor": 5
}
