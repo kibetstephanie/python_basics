{
 "cells": [
  {
   "cell_type": "code",
   "execution_count": 4,
   "id": "8f5fcad1",
   "metadata": {},
   "outputs": [
    {
     "name": "stdout",
     "output_type": "stream",
     "text": [
      "Enter the value of a: 3\n",
      "Enter the value of b: 3\n",
      "Sum is 6, Subtraction is 0, Multiplication is 9\n"
     ]
    }
   ],
   "source": [
    "#The function for finding the sum, subtraction and multiple of two digits.\n",
    "def result(a, b):\n",
    "    sum = a+b\n",
    "    subtraction = a-b\n",
    "    multiplication = a*b\n",
    "    print(f\"Sum is {sum}, Subtraction is {subtraction}, Multiplication is {multiplication}\")\n",
    "    \n",
    "#Code to enter the digits\n",
    "a = int(input(\"Enter the value of a: \"))\n",
    "b = int(input(\"Enter the value of b: \"))\n",
    "result(a,b)"
   ]
  },
  {
   "cell_type": "code",
   "execution_count": null,
   "id": "6380691b",
   "metadata": {},
   "outputs": [],
   "source": []
  }
 ],
 "metadata": {
  "kernelspec": {
   "display_name": "Python 3 (ipykernel)",
   "language": "python",
   "name": "python3"
  },
  "language_info": {
   "codemirror_mode": {
    "name": "ipython",
    "version": 3
   },
   "file_extension": ".py",
   "mimetype": "text/x-python",
   "name": "python",
   "nbconvert_exporter": "python",
   "pygments_lexer": "ipython3",
   "version": "3.9.7"
  }
 },
 "nbformat": 4,
 "nbformat_minor": 5
}
