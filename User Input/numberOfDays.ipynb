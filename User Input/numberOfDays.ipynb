{
 "cells": [
  {
   "cell_type": "code",
   "execution_count": 1,
   "id": "18132a2a",
   "metadata": {},
   "outputs": [
    {
     "name": "stdout",
     "output_type": "stream",
     "text": [
      "Please enter the number of days:4\n",
      "345600  Seconds\n"
     ]
    }
   ],
   "source": [
    "days = int(input(\"Please enter the number of days:\"))\n",
    "seconds = days * 24 * 60 * 60\n",
    "print(seconds, \" Seconds\")"
   ]
  },
  {
   "cell_type": "code",
   "execution_count": null,
   "id": "9425c837",
   "metadata": {},
   "outputs": [],
   "source": []
  }
 ],
 "metadata": {
  "kernelspec": {
   "display_name": "Python 3 (ipykernel)",
   "language": "python",
   "name": "python3"
  },
  "language_info": {
   "codemirror_mode": {
    "name": "ipython",
    "version": 3
   },
   "file_extension": ".py",
   "mimetype": "text/x-python",
   "name": "python",
   "nbconvert_exporter": "python",
   "pygments_lexer": "ipython3",
   "version": "3.9.7"
  }
 },
 "nbformat": 4,
 "nbformat_minor": 5
}
