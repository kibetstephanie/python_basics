{
 "cells": [
  {
   "cell_type": "code",
   "execution_count": 2,
   "id": "afb4c372",
   "metadata": {},
   "outputs": [
    {
     "name": "stdout",
     "output_type": "stream",
     "text": [
      "The Sum from 100 to 200 =  15150\n"
     ]
    }
   ],
   "source": [
    "num = 200\n",
    "\n",
    "total = 0\n",
    "value = 100\n",
    "\n",
    "while (value <= num):\n",
    "    total = total + value\n",
    "    value = value + 1\n",
    "\n",
    "print(\"The Sum from 100 to {0} =  {1}\".format(num, total))"
   ]
  },
  {
   "cell_type": "code",
   "execution_count": null,
   "id": "0587d33f",
   "metadata": {},
   "outputs": [],
   "source": []
  }
 ],
 "metadata": {
  "kernelspec": {
   "display_name": "Python 3 (ipykernel)",
   "language": "python",
   "name": "python3"
  },
  "language_info": {
   "codemirror_mode": {
    "name": "ipython",
    "version": 3
   },
   "file_extension": ".py",
   "mimetype": "text/x-python",
   "name": "python",
   "nbconvert_exporter": "python",
   "pygments_lexer": "ipython3",
   "version": "3.9.7"
  }
 },
 "nbformat": 4,
 "nbformat_minor": 5
}
