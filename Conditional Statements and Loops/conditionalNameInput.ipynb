{
 "cells": [
  {
   "cell_type": "code",
   "execution_count": 2,
   "id": "05653c03",
   "metadata": {},
   "outputs": [
    {
     "name": "stdout",
     "output_type": "stream",
     "text": [
      "Please enter your name.Bond\n",
      "Welcome on board 007.\n"
     ]
    }
   ],
   "source": [
    "name = input(\"Please enter your name.\")\n",
    "if name == \"Bond\":\n",
    "    print(\"Welcome on board 007.\")\n",
    "else:\n",
    "    print(\"Good morning \" + name)"
   ]
  },
  {
   "cell_type": "code",
   "execution_count": 3,
   "id": "f4072349",
   "metadata": {},
   "outputs": [
    {
     "name": "stdout",
     "output_type": "stream",
     "text": [
      "Please enter your name.Stephanie\n",
      "Good morning Stephanie\n"
     ]
    }
   ],
   "source": [
    "name = input(\"Please enter your name.\")\n",
    "if name == \"Bond\":\n",
    "    print(\"Welcome on board 007.\")\n",
    "else:\n",
    "    print(\"Good morning \" + name)\n",
    "    "
   ]
  },
  {
   "cell_type": "code",
   "execution_count": null,
   "id": "1e85230e",
   "metadata": {},
   "outputs": [],
   "source": []
  }
 ],
 "metadata": {
  "language_info": {
   "codemirror_mode": {
    "name": "ipython",
    "version": 3
   },
   "file_extension": ".py",
   "mimetype": "text/x-python",
   "name": "python",
   "nbconvert_exporter": "python",
   "pygments_lexer": "ipython3",
   "version": "3.9.7"
  }
 },
 "nbformat": 4,
 "nbformat_minor": 5
}
