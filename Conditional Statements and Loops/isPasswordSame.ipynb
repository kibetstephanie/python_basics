{
 "cells": [
  {
   "cell_type": "code",
   "execution_count": 1,
   "id": "0254fbd9",
   "metadata": {},
   "outputs": [
    {
     "name": "stdout",
     "output_type": "stream",
     "text": [
      "Enter the Password: 1223\n",
      "Enter the password: 223\n",
      "Confirm Password: 211\n",
      "Confirm Password: 111\n",
      "\n",
      "They are not Equal\n"
     ]
    }
   ],
   "source": [
    "#function to check whether both the passwords are equal or not\n",
    "def checkEqual(pass1,pass2,n1,n2):\n",
    "    #if the length of passwords are different return false\n",
    "    if n1!=n2:\n",
    "        return False\n",
    "    else:\n",
    "        #sort both the passwords\n",
    "        pass1.sort()\n",
    "        pass2.sort()\n",
    "        #traverse each index of passwords\n",
    "        for i in range(n1):\n",
    "            #for same index if the value in the password are different return false\n",
    "            if pass1[i]!=pass2[i]:\n",
    "                return False\n",
    "    #if none of the above conditions satisfied return true\n",
    "    return True\n",
    " \n",
    "#inputs form user\n",
    "n1=int(input(\"Enter the Password: \"))\n",
    "pass1=list(map(int,input(\"Enter the password: \").split()))\n",
    "n2=int(input(\"Confirm Password: \"))\n",
    "pass2=list(map(int,input(\"Confirm Password: \").split()))\n",
    " \n",
    "#if function returns true then print password are equal\n",
    "if checkEqual(pass1,pass2,n1,n2):\n",
    "    print(\"\\nThey are Equal\")\n",
    "#if function returns false then print passwords are not equal\n",
    "else:\n",
    "    print(\"\\nThey are not Equal\")"
   ]
  },
  {
   "cell_type": "code",
   "execution_count": null,
   "id": "570c2a7d",
   "metadata": {},
   "outputs": [],
   "source": []
  }
 ],
 "metadata": {
  "kernelspec": {
   "display_name": "Python 3 (ipykernel)",
   "language": "python",
   "name": "python3"
  },
  "language_info": {
   "codemirror_mode": {
    "name": "ipython",
    "version": 3
   },
   "file_extension": ".py",
   "mimetype": "text/x-python",
   "name": "python",
   "nbconvert_exporter": "python",
   "pygments_lexer": "ipython3",
   "version": "3.9.7"
  }
 },
 "nbformat": 4,
 "nbformat_minor": 5
}
